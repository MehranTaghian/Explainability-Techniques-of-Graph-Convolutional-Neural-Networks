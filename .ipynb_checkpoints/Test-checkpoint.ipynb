{
 "cells": [
  {
   "cell_type": "code",
   "execution_count": 1,
   "metadata": {},
   "outputs": [],
   "source": [
    "DATA_DIR = r\"C:\\Users\\Mehran\\Desktop\\Azizpour\\Datasets\\Gnome\"\n",
    "image_data_dir = DATA_DIR + '\\\\by-id\\\\'\n",
    "image_dir = DATA_DIR + \"\\\\images\\\\\""
   ]
  },
  {
   "cell_type": "code",
   "execution_count": 2,
   "metadata": {},
   "outputs": [],
   "source": [
    "import matplotlib.pyplot as plt\n",
    "import torch\n",
    "from ImageDataLoader import ImageRegionData\n",
    "from torchvision import transforms, models\n",
    "import torch.nn as nn\n",
    "from torch.utils.data.dataloader import DataLoader\n",
    "import math"
   ]
  },
  {
   "cell_type": "code",
   "execution_count": 31,
   "metadata": {},
   "outputs": [
    {
     "name": "stdout",
     "output_type": "stream",
     "text": [
      "Loading data from C:\\Users\\Mehran\\Desktop\\Azizpour\\Datasets\\Gnome\\Regions\\urban\\55\\.\n"
     ]
    }
   ],
   "source": [
    "transform = transforms.Compose([\n",
    "        transforms.Resize(299),\n",
    "        transforms.CenterCrop(299),\n",
    "        transforms.ToTensor(),\n",
    "        transforms.Normalize(mean=[0.485, 0.456, 0.406], std=[0.229, 0.224, 0.225]),\n",
    "    ])\n",
    "batch_size = 10\n",
    "image_data = ImageRegionData(DATA_DIR + \"\\\\Regions\\\\urban\\\\55\\\\\", transform)"
   ]
  },
  {
   "cell_type": "code",
   "execution_count": 11,
   "metadata": {},
   "outputs": [
    {
     "data": {
      "text/plain": [
       "27"
      ]
     },
     "execution_count": 11,
     "metadata": {},
     "output_type": "execute_result"
    }
   ],
   "source": [
    "import numpy as np\n",
    "np.ones([3,3,3]).size"
   ]
  },
  {
   "cell_type": "code",
   "execution_count": 32,
   "metadata": {},
   "outputs": [
    {
     "data": {
      "text/plain": [
       "27"
      ]
     },
     "execution_count": 32,
     "metadata": {},
     "output_type": "execute_result"
    }
   ],
   "source": [
    "len(image_data)"
   ]
  },
  {
   "cell_type": "code",
   "execution_count": 24,
   "metadata": {},
   "outputs": [],
   "source": [
    "import os\n",
    "graph_directory = DATA_DIR + '\\\\Regions\\\\' + 'urban' + '\\\\55'\n",
    "list_nodes = os.listdir(graph_directory)\n",
    "    "
   ]
  },
  {
   "cell_type": "code",
   "execution_count": 25,
   "metadata": {},
   "outputs": [
    {
     "data": {
      "text/plain": [
       "['bag.jpg',\n",
       " 'balloons.jpg',\n",
       " 'bicycle.jpg',\n",
       " 'bike.jpg',\n",
       " 'bikes.jpg',\n",
       " 'building.jpg',\n",
       " 'buildings.jpg',\n",
       " 'bus.jpg',\n",
       " 'child.jpg',\n",
       " 'city.jpg',\n",
       " 'flowers.jpg',\n",
       " 'garbage can.jpg',\n",
       " 'lamp.jpg',\n",
       " 'line.jpg',\n",
       " 'person.jpg',\n",
       " 'pole.jpg',\n",
       " 'shirt.jpg',\n",
       " 'sidewalk.jpg',\n",
       " 'street light.jpg',\n",
       " 'street.jpg',\n",
       " 'trash can.jpg',\n",
       " 'vehicle.jpg',\n",
       " 'wheels.jpg',\n",
       " 'window.jpg',\n",
       " 'windows.jpg',\n",
       " 'windshield.jpg',\n",
       " 'woman.jpg']"
      ]
     },
     "execution_count": 25,
     "metadata": {},
     "output_type": "execute_result"
    }
   ],
   "source": [
    "list_nodes"
   ]
  },
  {
   "cell_type": "code",
   "execution_count": 35,
   "metadata": {},
   "outputs": [],
   "source": [
    "categories = ['country', 'urban', 'indoor', 'outdoor']\n",
    "import shutil\n",
    "\n",
    "for c in categories:\n",
    "    path = DATA_DIR + '\\\\Regions\\\\' + c + '\\\\'\n",
    "    list_fold = os.listdir(path)\n",
    "    for folders in list_fold:\n",
    "        file_paths = path + folder + '\\\\'\n",
    "        list_files = os.listdir(file_paths)\n",
    "        os.mkdir(file_paths + '0')\n",
    "        for f in list_files:\n",
    "            shutil.move(f, file_paths + '0')\n",
    "    \n",
    "    "
   ]
  },
  {
   "cell_type": "code",
   "execution_count": null,
   "metadata": {},
   "outputs": [],
   "source": []
  }
 ],
 "metadata": {
  "kernelspec": {
   "display_name": "Python 3",
   "language": "python",
   "name": "python3"
  },
  "language_info": {
   "codemirror_mode": {
    "name": "ipython",
    "version": 3
   },
   "file_extension": ".py",
   "mimetype": "text/x-python",
   "name": "python",
   "nbconvert_exporter": "python",
   "pygments_lexer": "ipython3",
   "version": "3.7.3"
  }
 },
 "nbformat": 4,
 "nbformat_minor": 1
}
