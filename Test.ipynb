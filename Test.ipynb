{
 "cells": [
  {
   "cell_type": "code",
   "execution_count": null,
   "metadata": {},
   "outputs": [],
   "source": [
    "DATA_DIR = r\"C:\\Users\\Mehran\\Desktop\\Azizpour\\Datasets\\Gnome\"\n",
    "image_data_dir = DATA_DIR + '\\\\by-id\\\\'\n",
    "image_dir = DATA_DIR + \"\\\\images\\\\\""
   ]
  },
  {
   "cell_type": "code",
   "execution_count": null,
   "metadata": {},
   "outputs": [],
   "source": [
    "import matplotlib.pyplot as plt\n",
    "import torch\n",
    "from ImageDataLoader import ImageRegionData\n",
    "from torchvision import transforms, models\n",
    "import torch.nn as nn\n",
    "from torch.utils.data.dataloader import DataLoader\n",
    "import math\n",
    "import os"
   ]
  },
  {
   "cell_type": "code",
   "execution_count": null,
   "metadata": {},
   "outputs": [],
   "source": [
    "transform = transforms.Compose([\n",
    "        transforms.Resize(299),\n",
    "        transforms.CenterCrop(299),\n",
    "        transforms.ToTensor(),\n",
    "        transforms.Normalize(mean=[0.485, 0.456, 0.406], std=[0.229, 0.224, 0.225]),\n",
    "    ])\n",
    "batch_size = 10\n",
    "image_data = ImageRegionData(DATA_DIR + \"\\\\Regions\\\\country\\\\124\\\\\", transform)"
   ]
  },
  {
   "cell_type": "code",
   "execution_count": null,
   "metadata": {},
   "outputs": [],
   "source": [
    "os.listdir(DATA_DIR + \"\\\\Regions\\\\country\\\\124\\\\new\")"
   ]
  },
  {
   "cell_type": "code",
   "execution_count": null,
   "metadata": {},
   "outputs": [],
   "source": [
    "image_data.imgs"
   ]
  },
  {
   "cell_type": "code",
   "execution_count": null,
   "metadata": {},
   "outputs": [],
   "source": [
    "image_data[0][0].shape"
   ]
  },
  {
   "cell_type": "code",
   "execution_count": null,
   "metadata": {},
   "outputs": [],
   "source": [
    "import os\n",
    "graph_directory = DATA_DIR + '\\\\Regions\\\\' + 'urban' + '\\\\55'\n",
    "list_nodes = os.listdir(graph_directory)\n",
    "    "
   ]
  },
  {
   "cell_type": "code",
   "execution_count": null,
   "metadata": {},
   "outputs": [],
   "source": [
    "list_nodes"
   ]
  },
  {
   "cell_type": "code",
   "execution_count": null,
   "metadata": {},
   "outputs": [],
   "source": [
    "categories = ['country', 'urban', 'indoor', 'outdoor']\n",
    "import shutil\n",
    "\n",
    "for c in categories:\n",
    "    path = DATA_DIR + '\\\\Regions\\\\' + c + '\\\\'\n",
    "    list_fold = os.listdir(path)\n",
    "    for folder in list_fold:\n",
    "        file_paths = path + folder + '\\\\'\n",
    "        list_files = os.listdir( file_paths + 'new')\n",
    "        if len(list_files) == 0:\n",
    "            print(folder)\n",
    "#         print(folder)\n",
    "#         list_files.remove('new')\n",
    "#         print(list_files)\n",
    "#         print(file_paths + '0')\n",
    "#         print(folder)\n",
    "#         os.mkdir(file_paths + 'new')\n",
    "#         for f in list_files:\n",
    "#             shutil.move(file_paths + f, file_paths + 'new')\n",
    "    \n",
    "    "
   ]
  },
  {
   "cell_type": "code",
   "execution_count": null,
   "metadata": {},
   "outputs": [],
   "source": [
    "import torch"
   ]
  },
  {
   "cell_type": "code",
   "execution_count": null,
   "metadata": {},
   "outputs": [],
   "source": [
    "torch.rand(5)"
   ]
  },
  {
   "cell_type": "code",
   "execution_count": null,
   "metadata": {},
   "outputs": [],
   "source": [
    "torch.save(torch.rand(5), DATA_DIR + '\\\\hello.pt')"
   ]
  },
  {
   "cell_type": "code",
   "execution_count": null,
   "metadata": {},
   "outputs": [],
   "source": [
    "torch.load(DATA_DIR + '\\\\hello.pt')"
   ]
  },
  {
   "cell_type": "code",
   "execution_count": null,
   "metadata": {},
   "outputs": [],
   "source": [
    "'country' in ['country', 'urban']"
   ]
  },
  {
   "cell_type": "code",
   "execution_count": null,
   "metadata": {},
   "outputs": [],
   "source": [
    "import networkx as nx"
   ]
  },
  {
   "cell_type": "code",
   "execution_count": null,
   "metadata": {},
   "outputs": [],
   "source": [
    "g = nx.Graph()"
   ]
  },
  {
   "cell_type": "code",
   "execution_count": null,
   "metadata": {},
   "outputs": [],
   "source": [
    "g.add_edge(1,2)"
   ]
  },
  {
   "cell_type": "code",
   "execution_count": null,
   "metadata": {},
   "outputs": [],
   "source": [
    "g.add_edge(3,4)"
   ]
  },
  {
   "cell_type": "code",
   "execution_count": null,
   "metadata": {},
   "outputs": [],
   "source": [
    "nx.write_edgelist(g, 'edge.txt')"
   ]
  },
  {
   "cell_type": "code",
   "execution_count": null,
   "metadata": {},
   "outputs": [],
   "source": [
    "g = nx.read_edgelist('edge.txt')"
   ]
  },
  {
   "cell_type": "code",
   "execution_count": null,
   "metadata": {},
   "outputs": [],
   "source": [
    "DATA_DIR = r\"C:\\Users\\Mehran\\Desktop\\Azizpour\\Datasets\\Gnome\"\n",
    "TARGET_DIR = DATA_DIR + '\\\\Edges\\\\'"
   ]
  },
  {
   "cell_type": "code",
   "execution_count": null,
   "metadata": {},
   "outputs": [],
   "source": [
    "import dgl\n",
    "g = dgl.DGLGraph()\n",
    "g.add_nodes(14)\n",
    "# import pandas\n",
    "# edge = pandas.read_csv(TARGET_DIR + '107926.txt').values\n",
    "# g.add_edges(edge[:, 0], edge[:, 1])"
   ]
  },
  {
   "cell_type": "code",
   "execution_count": null,
   "metadata": {},
   "outputs": [],
   "source": [
    "import torch\n",
    "g.ndata['h'] = torch.ones([14,5])"
   ]
  },
  {
   "cell_type": "code",
   "execution_count": null,
   "metadata": {},
   "outputs": [],
   "source": [
    "a = [1,2,3,4]\n",
    "a[-1]"
   ]
  },
  {
   "cell_type": "code",
   "execution_count": null,
   "metadata": {},
   "outputs": [],
   "source": [
    "import networkx as nx\n",
    "import matplotlib.pyplot as plt\n",
    "nx.draw(g.to_networkx(), with_labels=True)\n",
    "plt.show()"
   ]
  },
  {
   "cell_type": "code",
   "execution_count": null,
   "metadata": {},
   "outputs": [],
   "source": [
    "import torch\n"
   ]
  },
  {
   "cell_type": "code",
   "execution_count": null,
   "metadata": {},
   "outputs": [],
   "source": [
    "inp = torch.rand([10, 2048])\n",
    "w = torch.rand([128, 2048])\n",
    "b = torch.rand(128)"
   ]
  },
  {
   "cell_type": "code",
   "execution_count": 1,
   "metadata": {},
   "outputs": [],
   "source": [
    "from TrainGraphModel import train_model"
   ]
  },
  {
   "cell_type": "code",
   "execution_count": 2,
   "metadata": {},
   "outputs": [
    {
     "name": "stderr",
     "output_type": "stream",
     "text": [
      "c:\\users\\mehran\\appdata\\local\\programs\\python\\python37\\lib\\site-packages\\dgl\\base.py:18: UserWarning: Initializer is not set. Use zero initializer instead. To suppress this warning, use `set_initializer` to explicitly specify which initializer to use.\n",
      "  warnings.warn(msg)\n"
     ]
    },
    {
     "name": "stdout",
     "output_type": "stream",
     "text": [
      "Epoch 0, loss 0.6863\n",
      "Epoch 1, loss 0.5181\n",
      "Epoch 2, loss 0.3638\n",
      "Epoch 3, loss 0.2807\n",
      "Epoch 4, loss 0.2005\n",
      "Epoch 5, loss 0.1628\n",
      "Epoch 6, loss 0.1239\n",
      "Epoch 7, loss 0.0932\n",
      "Epoch 8, loss 0.0724\n",
      "Epoch 9, loss 0.0527\n",
      "Epoch 10, loss 0.0382\n",
      "Epoch 11, loss 0.0252\n",
      "Epoch 12, loss 0.0219\n",
      "Epoch 13, loss 0.0133\n",
      "Epoch 14, loss 0.0098\n",
      "Epoch 15, loss 0.0080\n",
      "Epoch 16, loss 0.0064\n",
      "Epoch 17, loss 0.0062\n",
      "Epoch 18, loss 0.0047\n",
      "Epoch 19, loss 0.0046\n",
      "Epoch 20, loss 0.0041\n",
      "Epoch 21, loss 0.0031\n",
      "Epoch 22, loss 0.0029\n",
      "Epoch 23, loss 0.0028\n",
      "Epoch 24, loss 0.0027\n",
      "Epoch 25, loss 0.0025\n",
      "Epoch 26, loss 0.0020\n",
      "Epoch 27, loss 0.0017\n",
      "Epoch 28, loss 0.0017\n",
      "Epoch 29, loss 0.0020\n",
      "Epoch 30, loss 0.0014\n",
      "Epoch 31, loss 0.0019\n",
      "Epoch 32, loss 0.0012\n",
      "Epoch 33, loss 0.0013\n",
      "Epoch 34, loss 0.0016\n",
      "Epoch 35, loss 0.0012\n",
      "Epoch 36, loss 0.0012\n",
      "Epoch 37, loss 0.0009\n",
      "Epoch 38, loss 0.0011\n",
      "Epoch 39, loss 0.0009\n",
      "Epoch 40, loss 0.0010\n",
      "Epoch 41, loss 0.0008\n",
      "Epoch 42, loss 0.0007\n",
      "Epoch 43, loss 0.0007\n",
      "Epoch 44, loss 0.0006\n",
      "Epoch 45, loss 0.0010\n",
      "Epoch 46, loss 0.0007\n",
      "Epoch 47, loss 0.0005\n",
      "Epoch 48, loss 0.0006\n",
      "Epoch 49, loss 0.0005\n",
      "Epoch 50, loss 0.0005\n",
      "Epoch 51, loss 0.0005\n",
      "Epoch 52, loss 0.0004\n",
      "Epoch 53, loss 0.0005\n",
      "Epoch 54, loss 0.0005\n",
      "Epoch 55, loss 0.0005\n",
      "Epoch 56, loss 0.0004\n",
      "Epoch 57, loss 0.0004\n",
      "Epoch 58, loss 0.0003\n",
      "Epoch 59, loss 0.0004\n",
      "Epoch 60, loss 0.0004\n",
      "Epoch 61, loss 0.0003\n",
      "Epoch 62, loss 0.0004\n",
      "Epoch 63, loss 0.0004\n",
      "Epoch 64, loss 0.0004\n",
      "Epoch 65, loss 0.0003\n",
      "Epoch 66, loss 0.0003\n",
      "Epoch 67, loss 0.0003\n",
      "Epoch 68, loss 0.0003\n",
      "Epoch 69, loss 0.0003\n",
      "Epoch 70, loss 0.0002\n",
      "Epoch 71, loss 0.0003\n",
      "Epoch 72, loss 0.0002\n",
      "Epoch 73, loss 0.0003\n",
      "Epoch 74, loss 0.0002\n",
      "Epoch 75, loss 0.0002\n",
      "Epoch 76, loss 0.0002\n",
      "Epoch 77, loss 0.0002\n",
      "Epoch 78, loss 0.0002\n",
      "Epoch 79, loss 0.0002\n"
     ]
    }
   ],
   "source": [
    "model = train_model()\n",
    "\n"
   ]
  },
  {
   "cell_type": "code",
   "execution_count": 5,
   "metadata": {},
   "outputs": [
    {
     "name": "stdout",
     "output_type": "stream",
     "text": [
      "1115\n",
      "tensor([0, 6, 4, 5, 1, 2, 7, 3], device='cuda:0')\n"
     ]
    }
   ],
   "source": [
    "from GraphDataset import GraphDataset\n",
    "import LRP\n",
    "import torch\n",
    "\n",
    "i=5\n",
    "\n",
    "samples = GraphDataset('countryVSurban')\n",
    "model(samples[i][0])\n",
    "print(samples.ids[i])\n",
    "\n",
    "r = LRP.lrp(model)\n",
    "_, index = torch.sort(torch.sum(r, dim=1))\n",
    "print(index)"
   ]
  },
  {
   "cell_type": "code",
   "execution_count": null,
   "metadata": {},
   "outputs": [],
   "source": [
    "import torch\n",
    "torch.arange(4)"
   ]
  },
  {
   "cell_type": "code",
   "execution_count": null,
   "metadata": {},
   "outputs": [],
   "source": [
    "import LRP\n"
   ]
  },
  {
   "cell_type": "code",
   "execution_count": null,
   "metadata": {},
   "outputs": [],
   "source": [
    "R = LRP.lrp(model)"
   ]
  },
  {
   "cell_type": "code",
   "execution_count": null,
   "metadata": {},
   "outputs": [],
   "source": [
    "model(samples[0][0]).output\n",
    "# samples[0][0]"
   ]
  },
  {
   "cell_type": "code",
   "execution_count": null,
   "metadata": {},
   "outputs": [],
   "source": [
    "outputs= []\n",
    "def hook(module, input, output):\n",
    "    outputs.append(output)\n",
    "\n",
    "model.register_forward_hook(hook)\n",
    "\n",
    "# print(samples[0][0].ndata['h'])\n",
    "model(samples[0][0])"
   ]
  },
  {
   "cell_type": "code",
   "execution_count": null,
   "metadata": {},
   "outputs": [],
   "source": [
    "len(w.shape)"
   ]
  },
  {
   "cell_type": "code",
   "execution_count": null,
   "metadata": {},
   "outputs": [],
   "source": [
    "from GraphDataset import GraphDataset\n",
    "samples = GraphDataset('countryVSurban')\n"
   ]
  },
  {
   "cell_type": "code",
   "execution_count": null,
   "metadata": {},
   "outputs": [],
   "source": [
    "samples[0]"
   ]
  },
  {
   "cell_type": "code",
   "execution_count": null,
   "metadata": {},
   "outputs": [],
   "source": [
    "w = torch.ones([3,4]) \n",
    "w"
   ]
  },
  {
   "cell_type": "code",
   "execution_count": null,
   "metadata": {},
   "outputs": [],
   "source": [
    "x = torch.ones([5, 3]) * torch.arange(1, 4, dtype=torch.float)\n",
    "x"
   ]
  },
  {
   "cell_type": "code",
   "execution_count": null,
   "metadata": {},
   "outputs": [],
   "source": [
    "b = torch.ones([5,4]) * torch.arange(1, 5, dtype=torch.float)\n",
    "b[4, :] = torch.tensor([2,3,4,5])\n",
    "b"
   ]
  },
  {
   "cell_type": "code",
   "execution_count": null,
   "metadata": {},
   "outputs": [],
   "source": [
    "torch.sum(x[torch.arange(x.shape[0]), :, None] * w + b, dim=2)"
   ]
  },
  {
   "cell_type": "code",
   "execution_count": null,
   "metadata": {},
   "outputs": [],
   "source": [
    "(x[torch.arange(x.shape[0]), :, None] * w)"
   ]
  },
  {
   "cell_type": "code",
   "execution_count": null,
   "metadata": {},
   "outputs": [],
   "source": [
    "(x[torch.arange(x.shape[0]), :, None] * w) / b [:, None, :]"
   ]
  },
  {
   "cell_type": "code",
   "execution_count": null,
   "metadata": {},
   "outputs": [],
   "source": [
    "b = torch.tensor([1,2,3, 4], dtype=torch.float)\n",
    "c = torch.tensor([1,2,3], dtype=torch.float)"
   ]
  },
  {
   "cell_type": "code",
   "execution_count": null,
   "metadata": {},
   "outputs": [],
   "source": [
    "# a = torch.rand(10)\n",
    "a"
   ]
  },
  {
   "cell_type": "code",
   "execution_count": null,
   "metadata": {},
   "outputs": [],
   "source": [
    "ind"
   ]
  },
  {
   "cell_type": "code",
   "execution_count": null,
   "metadata": {},
   "outputs": [],
   "source": [
    "b"
   ]
  },
  {
   "cell_type": "code",
   "execution_count": null,
   "metadata": {},
   "outputs": [],
   "source": [
    "b, ind = torch.sort(a)"
   ]
  },
  {
   "cell_type": "code",
   "execution_count": null,
   "metadata": {},
   "outputs": [],
   "source": [
    "b[:, None] * a"
   ]
  },
  {
   "cell_type": "code",
   "execution_count": null,
   "metadata": {},
   "outputs": [],
   "source": [
    "for i in range(4, -1, -1):\n",
    "    print(i)"
   ]
  },
  {
   "cell_type": "code",
   "execution_count": null,
   "metadata": {},
   "outputs": [],
   "source": []
  }
 ],
 "metadata": {
  "kernelspec": {
   "display_name": "Python 3",
   "language": "python",
   "name": "python3"
  },
  "language_info": {
   "codemirror_mode": {
    "name": "ipython",
    "version": 3
   },
   "file_extension": ".py",
   "mimetype": "text/x-python",
   "name": "python",
   "nbconvert_exporter": "python",
   "pygments_lexer": "ipython3",
   "version": "3.7.3"
  }
 },
 "nbformat": 4,
 "nbformat_minor": 1
}
