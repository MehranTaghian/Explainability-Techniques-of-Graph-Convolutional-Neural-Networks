{
 "cells": [
  {
   "cell_type": "code",
   "execution_count": null,
   "metadata": {},
   "outputs": [],
   "source": [
    "DATA_DIR = r\"C:\\Users\\Mehran\\Desktop\\Azizpour\\Datasets\\Gnome\"\n",
    "image_data_dir = DATA_DIR + '\\\\by-id\\\\'\n",
    "image_dir = DATA_DIR + \"\\\\images\\\\\""
   ]
  },
  {
   "cell_type": "code",
   "execution_count": null,
   "metadata": {},
   "outputs": [],
   "source": [
    "import matplotlib.pyplot as plt\n",
    "import torch\n",
    "from ImageDataLoader import ImageRegionData\n",
    "from torchvision import transforms, models\n",
    "import torch.nn as nn\n",
    "from torch.utils.data.dataloader import DataLoader\n",
    "import math\n",
    "import os"
   ]
  },
  {
   "cell_type": "code",
   "execution_count": null,
   "metadata": {},
   "outputs": [],
   "source": [
    "transform = transforms.Compose([\n",
    "        transforms.Resize(299),\n",
    "        transforms.CenterCrop(299),\n",
    "        transforms.ToTensor(),\n",
    "        transforms.Normalize(mean=[0.485, 0.456, 0.406], std=[0.229, 0.224, 0.225]),\n",
    "    ])\n",
    "batch_size = 10\n",
    "image_data = ImageRegionData(DATA_DIR + \"\\\\Regions\\\\country\\\\124\\\\\", transform)"
   ]
  },
  {
   "cell_type": "code",
   "execution_count": null,
   "metadata": {},
   "outputs": [],
   "source": [
    "import numpy as np\n",
    "from sklearn.preprocessing import normalize\n",
    "\n",
    "x = np.array([1,2,3,4,5,6,7,7,8])\n",
    "x[:len(x) - 7:-1]\n",
    "# norm1 = x / np.linalg.norm(x)\n",
    "# norm2 = normalize(x[:,np.newaxis], axis=0).ravel()\n",
    "# print(np.all(norm1 == norm2))\n",
    "# print(norm1)"
   ]
  },
  {
   "cell_type": "code",
   "execution_count": null,
   "metadata": {},
   "outputs": [],
   "source": [
    "os.listdir(DATA_DIR + \"\\\\Regions\\\\country\\\\124\\\\new\")"
   ]
  },
  {
   "cell_type": "code",
   "execution_count": null,
   "metadata": {},
   "outputs": [],
   "source": [
    "image_data.imgs"
   ]
  },
  {
   "cell_type": "code",
   "execution_count": null,
   "metadata": {},
   "outputs": [],
   "source": [
    "image_data[0][0].shape"
   ]
  },
  {
   "cell_type": "code",
   "execution_count": null,
   "metadata": {},
   "outputs": [],
   "source": [
    "import os\n",
    "graph_directory = DATA_DIR + '\\\\Regions\\\\' + 'urban' + '\\\\55'\n",
    "list_nodes = os.listdir(graph_directory)\n",
    "    "
   ]
  },
  {
   "cell_type": "code",
   "execution_count": null,
   "metadata": {},
   "outputs": [],
   "source": [
    "list_nodes"
   ]
  },
  {
   "cell_type": "code",
   "execution_count": null,
   "metadata": {},
   "outputs": [],
   "source": [
    "categories = ['country', 'urban', 'indoor', 'outdoor']\n",
    "import shutil\n",
    "\n",
    "for c in categories:\n",
    "    path = DATA_DIR + '\\\\Regions\\\\' + c + '\\\\'\n",
    "    list_fold = os.listdir(path)\n",
    "    for folder in list_fold:\n",
    "        file_paths = path + folder + '\\\\'\n",
    "        list_files = os.listdir( file_paths + 'new')\n",
    "        if len(list_files) == 0:\n",
    "            print(folder)\n",
    "#         print(folder)\n",
    "#         list_files.remove('new')\n",
    "#         print(list_files)\n",
    "#         print(file_paths + '0')\n",
    "#         print(folder)\n",
    "#         os.mkdir(file_paths + 'new')\n",
    "#         for f in list_files:\n",
    "#             shutil.move(file_paths + f, file_paths + 'new')\n",
    "    \n",
    "    "
   ]
  },
  {
   "cell_type": "code",
   "execution_count": null,
   "metadata": {},
   "outputs": [],
   "source": [
    "DATA_DIR = r\"C:\\Users\\Mehran\\Desktop\\Azizpour\\Datasets\\Gnome\"\n",
    "TARGET_DIR = DATA_DIR + '\\\\Edges\\\\'"
   ]
  },
  {
   "cell_type": "code",
   "execution_count": null,
   "metadata": {},
   "outputs": [],
   "source": [
    "import dgl\n",
    "g = dgl.DGLGraph()\n",
    "g.add_nodes(14)\n",
    "# import pandas\n",
    "# edge = pandas.read_csv(TARGET_DIR + '107926.txt').values\n",
    "# g.add_edges(edge[:, 0], edge[:, 1])"
   ]
  },
  {
   "cell_type": "code",
   "execution_count": null,
   "metadata": {},
   "outputs": [],
   "source": [
    "import torch\n",
    "g.ndata['h'] = torch.ones([14,5])"
   ]
  },
  {
   "cell_type": "code",
   "execution_count": null,
   "metadata": {},
   "outputs": [],
   "source": [
    "import networkx as nx\n",
    "import matplotlib.pyplot as plt\n",
    "nx.draw(g.to_networkx(), with_labels=True)\n",
    "plt.show()"
   ]
  },
  {
   "cell_type": "code",
   "execution_count": null,
   "metadata": {},
   "outputs": [],
   "source": [
    "inp = torch.rand([10, 2048])\n",
    "w = torch.rand([128, 2048])\n",
    "b = torch.rand(128)"
   ]
  },
  {
   "cell_type": "code",
   "execution_count": null,
   "metadata": {},
   "outputs": [],
   "source": [
    "from TrainGraphModel import train_model"
   ]
  },
  {
   "cell_type": "code",
   "execution_count": null,
   "metadata": {},
   "outputs": [],
   "source": [
    "model = train_model()\n",
    "\n"
   ]
  },
  {
   "cell_type": "code",
   "execution_count": null,
   "metadata": {},
   "outputs": [],
   "source": [
    "from GraphDataset import GraphDataset\n",
    "import LRP\n",
    "import torch\n",
    "\n",
    "i=5\n",
    "\n",
    "samples = GraphDataset('countryVSurban')\n",
    "model(samples[i][0])\n",
    "print(samples.ids[i])\n",
    "\n",
    "r = LRP.lrp(model)\n",
    "_, index = torch.sort(torch.sum(r, dim=1))\n",
    "print(index)"
   ]
  },
  {
   "cell_type": "code",
   "execution_count": null,
   "metadata": {},
   "outputs": [],
   "source": [
    "import torch\n",
    "torch.arange(4)"
   ]
  },
  {
   "cell_type": "code",
   "execution_count": null,
   "metadata": {},
   "outputs": [],
   "source": [
    "from GraphDataset import GraphDataset\n",
    "samples = GraphDataset('countryVSurban')\n"
   ]
  },
  {
   "cell_type": "code",
   "execution_count": null,
   "metadata": {},
   "outputs": [],
   "source": [
    "import numpy as np\n",
    "a = np.ones([5,5])"
   ]
  },
  {
   "cell_type": "code",
   "execution_count": null,
   "metadata": {},
   "outputs": [],
   "source": [
    "a[0:6, 0:2]"
   ]
  },
  {
   "cell_type": "code",
   "execution_count": null,
   "metadata": {},
   "outputs": [],
   "source": [
    "from CreateGraphEdge import preprocess_object_names\n",
    "from visual_genome import local as vg\n",
    "import os\n",
    "data_dir = r\"C:\\Users\\Mehran\\Desktop\\Azizpour\\Datasets\\Gnome\"\n",
    "image_id = 107926"
   ]
  },
  {
   "cell_type": "code",
   "execution_count": null,
   "metadata": {},
   "outputs": [],
   "source": [
    "graph = vg.get_scene_graph(107926, images=data_dir+'\\\\', image_data_dir=data_dir + '\\\\by-id\\\\', synset_file=data_dir+'\\\\synsets.json') "
   ]
  },
  {
   "cell_type": "code",
   "execution_count": null,
   "metadata": {},
   "outputs": [],
   "source": [
    "graph.objects"
   ]
  },
  {
   "cell_type": "code",
   "execution_count": null,
   "metadata": {},
   "outputs": [],
   "source": [
    "import matplotlib.pyplot as plt\n",
    "import numpy as np\n",
    "from matplotlib.patches import Circle\n",
    "\n",
    "\n",
    "man = graph.objects[0]\n",
    "cow = graph.objects[2]\n",
    "\n",
    "# Get an example image\n",
    "import matplotlib.cbook as cbook\n",
    "image_file = cbook.get_sample_data(data_dir + f'\\\\images\\\\{image_id}.jpg')\n",
    "img = plt.imread(image_file)\n",
    "\n",
    "# Make some example data\n",
    "# x = np.random.rand(5)*img.shape[1]\n",
    "# y = np.random.rand(5)*img.shape[0]\n",
    "x = [man.x + man.width / 2, cow.x + cow.width/2]\n",
    "y = [man.y + man.height / 2, cow.y + cow.height / 2]\n",
    "\n",
    "# Create a figure. Equal aspect so circles look circular\n",
    "fig,ax = plt.subplots(1)\n",
    "ax.set_aspect('equal')\n",
    "\n",
    "# Show the image\n",
    "ax.imshow(img)\n",
    "\n",
    "# Now, loop through coord arrays, and create a circle at each x,y pair\n",
    "for xx,yy in zip(x,y):\n",
    "    circ = Circle((xx,yy),50)\n",
    "    ax.add_patch(circ)\n",
    "    ax.text(xx, yy, 'hello', bbox=dict(facecolor='white', alpha=0.5))\n",
    "\n",
    "plt.plot(x[0:2], y[0:2], 'g', linewidth=5)\n",
    "plt.text(abs(x[0] + x[1])/2, abs(y[0] + y[1])/2, 'is on', bbox=dict(facecolor='white', alpha=0.5))\n",
    "# Show the image\n",
    "plt.show()"
   ]
  },
  {
   "cell_type": "code",
   "execution_count": null,
   "metadata": {},
   "outputs": [],
   "source": [
    "import matplotlib.pyplot as plt\n",
    "import matplotlib.image as mpimg\n",
    "import numpy as np\n",
    "import networkx as nx\n",
    "\n",
    "img=mpimg.imread(r'C:\\Users\\Mehran\\Desktop\\Azizpour\\Datasets\\Gnome\\Regions\\country\\124\\new\\apples.jpg')\n",
    "G=nx.Graph()\n",
    "G.add_node(0,image= img)\n",
    "G.add_node(1,image= img)\n",
    "G.add_node(2,image= img)\n",
    "G.add_node(3,image= img)\n",
    "G.add_node(4,image= img)\n",
    "G.add_node(5,image= img)\n",
    "\n",
    "print(G.nodes())\n",
    "G.add_edge(0,1)\n",
    "G.add_edge(0,2)\n",
    "G.add_edge(0,3)\n",
    "G.add_edge(0,4)\n",
    "G.add_edge(0,5)\n",
    "print(G.edges())\n",
    "pos=nx.circular_layout(G)\n",
    "\n",
    "fig=plt.figure(figsize=(5,5))\n",
    "ax=plt.subplot(111)\n",
    "ax.set_aspect('equal')\n",
    "nx.draw_networkx_edges(G,pos,ax=ax)\n",
    "\n",
    "plt.xlim(-1.5,1.5)\n",
    "plt.ylim(-1.5,1.5)\n",
    "\n",
    "trans=ax.transData.transform\n",
    "trans2=fig.transFigure.inverted().transform\n",
    "\n",
    "piesize=0.2 # this is the image size\n",
    "p2=piesize/2.0\n",
    "for n in G:\n",
    "    xx,yy=trans(pos[n]) # figure coordinates\n",
    "    xa,ya=trans2((xx,yy)) # axes coordinates\n",
    "    a = plt.axes([xa-p2,ya-p2, piesize, piesize])\n",
    "    a.set_aspect('equal')\n",
    "    a.imshow(G.node[n]['image'])\n",
    "    a.axis('off')\n",
    "ax.axis('off')\n",
    "plt.show()"
   ]
  },
  {
   "cell_type": "code",
   "execution_count": null,
   "metadata": {},
   "outputs": [],
   "source": [
    "data_dir = r\"C:\\Users\\Mehran\\Desktop\\Azizpour\\Datasets\\Gnome\\\\\"\n",
    "graph = vg.get_scene_graph(10, images=data_dir, image_data_dir=data_dir + 'by-id\\\\', synset_file=data_dir+'synsets.json')\n"
   ]
  },
  {
   "cell_type": "code",
   "execution_count": null,
   "metadata": {},
   "outputs": [],
   "source": [
    "for i in graph.objects:\n",
    "    print(i.synsets)\n",
    "#     print('forward' in i.synset.__str__())\n",
    "# graph.objects"
   ]
  },
  {
   "cell_type": "code",
   "execution_count": null,
   "metadata": {},
   "outputs": [],
   "source": [
    "from Federico.torchgraphs.src import torchgraphs as tg"
   ]
  },
  {
   "cell_type": "code",
   "execution_count": null,
   "metadata": {},
   "outputs": [],
   "source": [
    "g = tg.Graph(\n",
    "    node_features=torch.rand(5, 10),\n",
    "    senders=torch.tensor([0,1,2,3]),\n",
    "    receivers=torch.tensor([2,3,4,0])\n",
    ")"
   ]
  },
  {
   "cell_type": "code",
   "execution_count": null,
   "metadata": {},
   "outputs": [],
   "source": [
    "import networkx as nx\n",
    "import torch"
   ]
  },
  {
   "cell_type": "code",
   "execution_count": null,
   "metadata": {},
   "outputs": [],
   "source": [
    "torch.mean(g.node_features, dim=0).shape"
   ]
  },
  {
   "cell_type": "code",
   "execution_count": null,
   "metadata": {},
   "outputs": [],
   "source": [
    "g.node_features"
   ]
  },
  {
   "cell_type": "code",
   "execution_count": 1,
   "metadata": {},
   "outputs": [
    {
     "ename": "ModuleNotFoundError",
     "evalue": "No module named 'VisualGenomeGraphModel'",
     "traceback": [
      "\u001b[1;31m---------------------------------------------------------------------------\u001b[0m",
      "\u001b[1;31mModuleNotFoundError\u001b[0m                       Traceback (most recent call last)",
      "\u001b[1;32m<ipython-input-1-d18efdafd4aa>\u001b[0m in \u001b[0;36m<module>\u001b[1;34m\u001b[0m\n\u001b[1;32m----> 1\u001b[1;33m \u001b[1;32mfrom\u001b[0m \u001b[0mGraph\u001b[0m \u001b[1;32mimport\u001b[0m \u001b[0mVisualGenomeGN\u001b[0m\u001b[1;33m\u001b[0m\u001b[1;33m\u001b[0m\u001b[0m\n\u001b[0m\u001b[0;32m      2\u001b[0m \u001b[1;32mfrom\u001b[0m \u001b[0mGraph\u001b[0m \u001b[1;32mimport\u001b[0m \u001b[0mVisualGenomeGNRelevance\u001b[0m\u001b[1;33m\u001b[0m\u001b[1;33m\u001b[0m\u001b[0m\n\u001b[0;32m      3\u001b[0m \u001b[1;33m\u001b[0m\u001b[0m\n\u001b[0;32m      4\u001b[0m \u001b[0mnet\u001b[0m \u001b[1;33m=\u001b[0m \u001b[0mVisualGenomeGN\u001b[0m\u001b[1;33m(\u001b[0m\u001b[1;33m)\u001b[0m\u001b[1;33m\u001b[0m\u001b[1;33m\u001b[0m\u001b[0m\n\u001b[0;32m      5\u001b[0m \u001b[0mnet\u001b[0m\u001b[1;33m.\u001b[0m\u001b[0mload_state_dict\u001b[0m\u001b[1;33m(\u001b[0m\u001b[0mtorch\u001b[0m\u001b[1;33m.\u001b[0m\u001b[0mload\u001b[0m\u001b[1;33m(\u001b[0m\u001b[1;34mr'..\\trained_graph'\u001b[0m\u001b[1;33m,\u001b[0m \u001b[0mmap_location\u001b[0m\u001b[1;33m=\u001b[0m\u001b[1;34m'cuda:0'\u001b[0m\u001b[1;33m)\u001b[0m\u001b[1;33m)\u001b[0m\u001b[1;33m\u001b[0m\u001b[1;33m\u001b[0m\u001b[0m\n",
      "\u001b[1;32m~\\Desktop\\Azizpour\\MainProject\\Graph\\__init__.py\u001b[0m in \u001b[0;36m<module>\u001b[1;34m\u001b[0m\n\u001b[1;32m----> 1\u001b[1;33m \u001b[1;32mfrom\u001b[0m \u001b[1;33m.\u001b[0m\u001b[0mVisualGenomeGNRelevance\u001b[0m \u001b[1;32mimport\u001b[0m \u001b[0mVisualGenomeGNRelevance\u001b[0m\u001b[1;33m\u001b[0m\u001b[1;33m\u001b[0m\u001b[0m\n\u001b[0m\u001b[0;32m      2\u001b[0m \u001b[1;32mfrom\u001b[0m \u001b[1;33m.\u001b[0m\u001b[0mVisualGenomeGraphModel\u001b[0m \u001b[1;32mimport\u001b[0m \u001b[0mVisualGenomeGN\u001b[0m\u001b[1;33m\u001b[0m\u001b[1;33m\u001b[0m\u001b[0m\n",
      "\u001b[1;32m~\\Desktop\\Azizpour\\MainProject\\Graph\\VisualGenomeGNRelevance.py\u001b[0m in \u001b[0;36m<module>\u001b[1;34m\u001b[0m\n\u001b[0;32m      1\u001b[0m \u001b[1;32mfrom\u001b[0m \u001b[0mcollections\u001b[0m \u001b[1;32mimport\u001b[0m \u001b[0mOrderedDict\u001b[0m\u001b[1;33m\u001b[0m\u001b[1;33m\u001b[0m\u001b[0m\n\u001b[1;32m----> 2\u001b[1;33m \u001b[1;32mfrom\u001b[0m \u001b[0mVisualGenomeGraphModel\u001b[0m \u001b[1;32mimport\u001b[0m \u001b[0mVisualGenomeGN\u001b[0m\u001b[1;33m\u001b[0m\u001b[1;33m\u001b[0m\u001b[0m\n\u001b[0m\u001b[0;32m      3\u001b[0m \u001b[1;32mimport\u001b[0m \u001b[0mtorch\u001b[0m\u001b[1;33m\u001b[0m\u001b[1;33m\u001b[0m\u001b[0m\n\u001b[0;32m      4\u001b[0m \u001b[1;32mimport\u001b[0m \u001b[0mFederico\u001b[0m\u001b[1;33m.\u001b[0m\u001b[0msrc\u001b[0m\u001b[1;33m.\u001b[0m\u001b[0mtorchgraphs\u001b[0m \u001b[1;32mas\u001b[0m \u001b[0mtg\u001b[0m\u001b[1;33m\u001b[0m\u001b[1;33m\u001b[0m\u001b[0m\n\u001b[0;32m      5\u001b[0m \u001b[1;32mimport\u001b[0m \u001b[0mtorch\u001b[0m\u001b[1;33m.\u001b[0m\u001b[0mnn\u001b[0m \u001b[1;32mas\u001b[0m \u001b[0mnn\u001b[0m\u001b[1;33m\u001b[0m\u001b[1;33m\u001b[0m\u001b[0m\n",
      "\u001b[1;31mModuleNotFoundError\u001b[0m: No module named 'VisualGenomeGraphModel'"
     ],
     "output_type": "error"
    }
   ],
   "source": [
    "from Graph.VisualGenomeGraphModel import VisualGenomeGN\n",
    "from Graph.Visual import VisualGenomeGNRelevance\n",
    "\n",
    "net = VisualGenomeGN()\n",
    "net.load_state_dict(torch.load(r'..\\trained_graph', map_location='cuda:0'))\n",
    "net_lrp = VisualGenomeGNRelevance('avg', True)\n",
    "net_lrp.load_state_dict(torch.load(r'..\\trained_graph', map_location='cuda:0'))\n",
    "\n"
   ]
  },
  {
   "cell_type": "code",
   "execution_count": null,
   "metadata": {},
   "outputs": [],
   "source": []
  }
 ],
 "metadata": {
  "kernelspec": {
   "display_name": "Python 3",
   "language": "python",
   "name": "python3"
  },
  "language_info": {
   "codemirror_mode": {
    "name": "ipython",
    "version": 3
   },
   "file_extension": ".py",
   "mimetype": "text/x-python",
   "name": "python",
   "nbconvert_exporter": "python",
   "pygments_lexer": "ipython3",
   "version": "3.7.3"
  }
 },
 "nbformat": 4,
 "nbformat_minor": 1
}
